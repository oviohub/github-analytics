{
 "cells": [
  {
   "cell_type": "markdown",
   "metadata": {},
   "source": [
    "# Airtable & GitHub Analysis"
   ]
  },
  {
   "cell_type": "code",
   "execution_count": null,
   "metadata": {},
   "outputs": [],
   "source": [
    "import os\n",
    "import json\n",
    "\n",
    "from airtable import airtable\n",
    "from github import Github"
   ]
  },
  {
   "cell_type": "markdown",
   "metadata": {},
   "source": [
    "### Setup\n",
    "This repository is using the GitHub API and accessing Airtable.\n",
    "You will need to setup the following environment variables:\n",
    "- AIRTABLE_API_KEY\n",
    "- GITHUB_API_KEY\n",
    "And configure tables properly under Airtable Setup."
   ]
  },
  {
   "cell_type": "code",
   "execution_count": null,
   "metadata": {},
   "outputs": [],
   "source": [
    "# Airtable Setup\n",
    "airtable_api_key = os.environ.get('AIRTABLE_API_KEY')\n",
    "ovio_table_base_id = 'appsmuzyRwrWD39Rj'\n",
    "project_table = 'GithHub Repository'\n",
    "causes_table = 'Causes'\n",
    "\n",
    "at = airtable.Airtable(ovio_table_base_id, project_table, api_key=airtable_api_key)\n",
    "airtable_projects = at.get_all()\n",
    "\n",
    "airtable_causes = airtable.Airtable(ovio_table_base_id, causes_table, api_key=airtable_api_key)"
   ]
  },
  {
   "cell_type": "code",
   "execution_count": null,
   "metadata": {},
   "outputs": [],
   "source": [
    "def get_cause(cause_id):\n",
    "    return airtable_causes.get(cause_id)['fields']['Name']"
   ]
  },
  {
   "cell_type": "code",
   "execution_count": null,
   "metadata": {},
   "outputs": [],
   "source": [
    "# GitHub interaction\n",
    "g = Github(os.environ.get('GITHUB_API_KEY'))"
   ]
  },
  {
   "cell_type": "code",
   "execution_count": null,
   "metadata": {},
   "outputs": [],
   "source": [
    "airtable_projects[0]"
   ]
  },
  {
   "cell_type": "code",
   "execution_count": null,
   "metadata": {},
   "outputs": [],
   "source": [
    "## sample output\n",
    "{\n",
    "    \"name\": \"google-type\",\n",
    "    \"owner\": \"femmebot\",\n",
    "    \"fullname\": \"femmebot~google-type\",\n",
    "    \"description\": \"Collaborative typography project using select passages from Aesop's Fables set to Google Fonts\",\n",
    "    \"avatar\": \"https://avatars0.githubusercontent.com/u/471514?v=4\",\n",
    "    \"url\": \"https://github.com/femmebot/google-type\",\n",
    "    \"pushed\": \"2017-12-30T19:17:37Z\",\n",
    "    \"created\": \"2014-07-22T23:43:17Z\",\n",
    "    \"size\": 49214,\n",
    "    \"stars\": 943,\n",
    "    \"forks\": 108,\n",
    "    \"topics\": [\n",
    "        \"css\",\n",
    "        \"google-fonts\",\n",
    "        \"responsive\",\n",
    "        \"typography\"\n",
    "    ],\n",
    "    \"language\": \"CSS\",\n",
    "    \"watchers\": 50\n",
    "}"
   ]
  },
  {
   "cell_type": "code",
   "execution_count": null,
   "metadata": {},
   "outputs": [],
   "source": [
    "def format_github_repo(organization, repo):\n",
    "    return {\n",
    "        \"name\": repo.name,\n",
    "        \"owner\": repo.owner.login,\n",
    "        \"organization\": repo.organization.login,\n",
    "        \"organization_description\": organization['fields']['Description'],\n",
    "        \"organization_causes\": list(map(get_cause, organization['fields']['Causes'])),\n",
    "        \"fullname\": repo.full_name.replace('/', '~'),\n",
    "        \"description\": repo.description,\n",
    "        \"avatar\": repo.organization.avatar_url,\n",
    "        \"url\": repo.html_url,\n",
    "        \"pushed\": repo.pushed_at.isoformat() + 'Z',\n",
    "        \"created\": repo.created_at.isoformat() + 'Z',\n",
    "        \"size\": repo.size,\n",
    "        \"stars\": repo.stargazers_count,\n",
    "        \"forks\": repo.forks_count,\n",
    "        \"topics\": repo.topics or [],\n",
    "        \"language\": repo.language or '',\n",
    "        \"watchers\": repo.watchers_count\n",
    "    }"
   ]
  },
  {
   "cell_type": "code",
   "execution_count": null,
   "metadata": {},
   "outputs": [],
   "source": [
    "format_github_repo(airtable_projects[0], )"
   ]
  },
  {
   "cell_type": "code",
   "execution_count": null,
   "metadata": {},
   "outputs": [],
   "source": [
    "formatted_repositories = []"
   ]
  },
  {
   "cell_type": "code",
   "execution_count": null,
   "metadata": {},
   "outputs": [],
   "source": [
    "for organization in airtable_projects:\n",
    "    try:\n",
    "        print(organization['fields']['GitHub'])\n",
    "        g_organization = g.get_organization(organization['fields']['GitHub'].replace('https://github.com/', ''))\n",
    "    except:\n",
    "        continue\n",
    "    for repo in g_organization.get_repos():\n",
    "        #TODO\n",
    "        # if repo.not_active:\n",
    "        #    pass\n",
    "        try:\n",
    "            formatted_repository = format_github_repo(organization, repo)\n",
    "            formatted_repositories.append(formatted_repository)\n",
    "        except:\n",
    "            pass"
   ]
  },
  {
   "cell_type": "code",
   "execution_count": null,
   "metadata": {},
   "outputs": [],
   "source": [
    "airtable_projects[0]"
   ]
  },
  {
   "cell_type": "code",
   "execution_count": null,
   "metadata": {},
   "outputs": [],
   "source": [
    "len(formatted_repositories)"
   ]
  },
  {
   "cell_type": "code",
   "execution_count": null,
   "metadata": {},
   "outputs": [],
   "source": [
    "with open('repo_test.json', 'w') as fd:\n",
    "    fd.write(json.dumps(formatted_repositories))  "
   ]
  },
  {
   "cell_type": "code",
   "execution_count": null,
   "metadata": {},
   "outputs": [],
   "source": []
  }
 ],
 "metadata": {
  "kernelspec": {
   "display_name": "Python 3",
   "language": "python",
   "name": "python3"
  },
  "language_info": {
   "codemirror_mode": {
    "name": "ipython",
    "version": 3
   },
   "file_extension": ".py",
   "mimetype": "text/x-python",
   "name": "python",
   "nbconvert_exporter": "python",
   "pygments_lexer": "ipython3",
   "version": "3.6.7"
  }
 },
 "nbformat": 4,
 "nbformat_minor": 2
}
